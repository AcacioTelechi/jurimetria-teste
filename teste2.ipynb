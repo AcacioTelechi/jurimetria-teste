{
 "cells": [
  {
   "cell_type": "code",
   "execution_count": 15,
   "metadata": {},
   "outputs": [],
   "source": [
    "import json\n",
    "import pandas as pd\n",
    "from matplotlib import pyplot as plt\n",
    "import re"
   ]
  },
  {
   "cell_type": "code",
   "execution_count": 3,
   "metadata": {},
   "outputs": [],
   "source": [
    "with open(r'./output/2021-11-14.json', 'r', encoding='utf8') as f:\n",
    "    lista = json.load(f)"
   ]
  },
  {
   "cell_type": "code",
   "execution_count": null,
   "metadata": {},
   "outputs": [],
   "source": [
    "filtro = [item for item in lista if item['status'] == '01']\n",
    "filtro"
   ]
  },
  {
   "cell_type": "code",
   "execution_count": 47,
   "metadata": {},
   "outputs": [],
   "source": [
    "pd.DataFrame(filtro).to_excel(r'./output/teste_ok.xlsx', index=False)"
   ]
  },
  {
   "cell_type": "code",
   "execution_count": 51,
   "metadata": {},
   "outputs": [],
   "source": [
    "with open(r'dicionario.json', 'r', encoding=\"utf8\") as f:\n",
    "    dicionario = json.load(f)"
   ]
  },
  {
   "cell_type": "code",
   "execution_count": 63,
   "metadata": {},
   "outputs": [
    {
     "name": "stdout",
     "output_type": "stream",
     "text": [
      "1 1\n"
     ]
    }
   ],
   "source": [
    "texto = filtro[4]['ementa'].lower().split(' ')\n",
    "cont_a =0\n",
    "cont_r = 0\n",
    "for palavra in texto:\n",
    "    if palavra in dicionario['resultado']['aprovado']:\n",
    "        cont_a += 1\n",
    "    elif palavra in dicionario['resultado']['reprovado']:\n",
    "        cont_r += 1\n",
    "print(cont_a, cont_r)"
   ]
  },
  {
   "cell_type": "code",
   "execution_count": null,
   "metadata": {},
   "outputs": [],
   "source": [
    "pattern = re.compile(r'[A-ZÁÉÍÓÂÔÃÕÇ]*\\s')\n",
    "teste = re.findall(pattern, filtro[0]['ementa'])\n",
    "teste = [item.strip() for item in teste if item != ' ']\n",
    "teste"
   ]
  }
 ],
 "metadata": {
  "interpreter": {
   "hash": "f4f69bb116ce96ede4211ae550f6a1e35d96abef9a5ae85cc5a16f360a175ee5"
  },
  "kernelspec": {
   "display_name": "Python 3.9.0 64-bit",
   "language": "python",
   "name": "python3"
  },
  "language_info": {
   "codemirror_mode": {
    "name": "ipython",
    "version": 3
   },
   "file_extension": ".py",
   "mimetype": "text/x-python",
   "name": "python",
   "nbconvert_exporter": "python",
   "pygments_lexer": "ipython3",
   "version": "3.9.0"
  },
  "orig_nbformat": 4
 },
 "nbformat": 4,
 "nbformat_minor": 2
}
