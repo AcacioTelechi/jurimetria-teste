{
 "cells": [
  {
   "cell_type": "code",
   "execution_count": 5,
   "metadata": {},
   "outputs": [],
   "source": [
    "import json\n",
    "import pandas as pd"
   ]
  },
  {
   "cell_type": "code",
   "execution_count": 3,
   "metadata": {},
   "outputs": [],
   "source": [
    "with open('lista_ok.json', 'r', encoding='utf8') as f:\n",
    "    lista = json.load(f)"
   ]
  },
  {
   "cell_type": "code",
   "execution_count": 11,
   "metadata": {},
   "outputs": [],
   "source": [
    "nlist = []\n",
    "for obj in lista:\n",
    "    nobj = {\n",
    "    'link': obj['link'],\n",
    "    'processo': obj['dados']['processo'],\n",
    "    'tipo': obj['dados']['tipo'],\n",
    "    'relator': obj['dados']['relator'],\n",
    "    'cargo': obj['dados']['cargo'],\n",
    "    'orgao': obj['dados']['orgao'],\n",
    "    'data': obj['dados']['data'],\n",
    "    'ementa': obj['ementa'],\n",
    "    }\n",
    "    nlist.append(nobj)"
   ]
  },
  {
   "cell_type": "code",
   "execution_count": 13,
   "metadata": {},
   "outputs": [],
   "source": [
    "pd.DataFrame(nlist).to_excel('lista_ok.xlsx')"
   ]
  }
 ],
 "metadata": {
  "interpreter": {
   "hash": "f4f69bb116ce96ede4211ae550f6a1e35d96abef9a5ae85cc5a16f360a175ee5"
  },
  "kernelspec": {
   "display_name": "Python 3.9.0 64-bit",
   "language": "python",
   "name": "python3"
  },
  "language_info": {
   "codemirror_mode": {
    "name": "ipython",
    "version": 3
   },
   "file_extension": ".py",
   "mimetype": "text/x-python",
   "name": "python",
   "nbconvert_exporter": "python",
   "pygments_lexer": "ipython3",
   "version": "3.9.0"
  },
  "orig_nbformat": 4
 },
 "nbformat": 4,
 "nbformat_minor": 2
}
