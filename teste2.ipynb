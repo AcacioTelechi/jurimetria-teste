{
 "cells": [
  {
   "cell_type": "code",
   "execution_count": 15,
   "metadata": {},
   "outputs": [],
   "source": [
    "import json\n",
    "import pandas as pd\n",
    "from matplotlib import pyplot as plt\n",
    "import re"
   ]
  },
  {
   "cell_type": "code",
   "execution_count": 3,
   "metadata": {},
   "outputs": [],
   "source": [
    "with open(r'./output/2021-11-14.json', 'r', encoding='utf8') as f:\n",
    "    lista = json.load(f)"
   ]
  },
  {
   "cell_type": "code",
   "execution_count": null,
   "metadata": {},
   "outputs": [],
   "source": [
    "filtro = [item for item in lista if item['status'] == '01']\n",
    "filtro"
   ]
  },
  {
   "cell_type": "code",
   "execution_count": 47,
   "metadata": {},
   "outputs": [],
   "source": [
    "pd.DataFrame(filtro).to_excel(r'./output/teste_ok.xlsx', index=False)"
   ]
  },
  {
   "cell_type": "code",
   "execution_count": 30,
   "metadata": {},
   "outputs": [
    {
     "data": {
      "text/plain": [
       "'PODER JUDICIÁRIO TRIBUNAL DE JUSTIÇA Estado do Paraná 14ª CÂMARA CÍVEL AGRAVO DE INSTRUMENTO N.º 0046002-75.2021.8.16.0000, DE PONTA GROSSA – 2ª VARA CÍVEL AGRAVANTE: COOPERATIVA DE CREDITO SUL - SICOOB SUL AGRAVADO: EZEQUIEL BARBOSA DE OLIVEIRA RELATOR: DESEMBARGADOR JOÃO ANTÔNIO DE MARCHI VISTO, etc. Em consulta ao processo eletrônico da demanda originária, verifica-se que as partes transigiram na Tutela Cautelar em Caráter Antecedente com Pedido Liminar nº: 0017527-52.2021.8.16.0019 (mov. 63.2) e, em 28.10.21, foi proferida sentença homologando- a e julgando extinto o feito, com resolução de mérito (CPC, art. 487, III, “b” – mov. 75.1). Com efeito, o procedimento recursal se encontra prejudicado, devido à superveniente perda de objeto, circunstância que implica em sua extinção, nos termos do art. 182, inciso XXIV, do Regimento Interno deste egrégio Tribunal de Justiça1. Diante do exposto, JULGO EXTINTO o presente procedimento recursal, por se encontrar prejudicado, devido à superveniente perda de objeto. Intimem-se. Comunique-se o Juízo a quo, enviando-lhe cópia desta decisão. Oportunamente, baixe-se o processo à origem, com observância das cautelas de estilo. 1 Art. 182. Compete ao Relator: [...] XXIV -extinguir o procedimento recursal e o processo cível de competência originária sem resolução do mérito, bem como julgar conforme o estado do processo, no caso dos artigos 354 a 356 do Código de Processo Civil, os processos cíveis de competência originária do Tribunal; Cód. 1.07.030 PODER JUDICIÁRIO TRIBUNAL DE JUSTIÇA Estado do Paraná Agravo de Instrumento n° 0046002-75.2021.8.16.0000– 14ª CCV Pág. 2 Curitiba, 8 de novembro de 2021. Des. João Antônio De Marchi Relator Cód. 1.07.030'"
      ]
     },
     "execution_count": 30,
     "metadata": {},
     "output_type": "execute_result"
    }
   ],
   "source": [
    "filtro[0]['ementa']"
   ]
  },
  {
   "cell_type": "code",
   "execution_count": 46,
   "metadata": {},
   "outputs": [
    {
     "data": {
      "text/plain": [
       "['PODER',\n",
       " 'JUDICIÁRIO',\n",
       " 'TRIBUNAL',\n",
       " 'DE',\n",
       " 'JUSTIÇA',\n",
       " 'CÂMARA',\n",
       " 'CÍVEL',\n",
       " 'AGRAVO',\n",
       " 'DE',\n",
       " 'INSTRUMENTO',\n",
       " 'DE',\n",
       " 'PONTA',\n",
       " 'GROSSA',\n",
       " 'VARA',\n",
       " 'CÍVEL',\n",
       " 'COOPERATIVA',\n",
       " 'DE',\n",
       " 'CREDITO',\n",
       " 'SUL',\n",
       " 'SICOOB',\n",
       " 'SUL',\n",
       " 'EZEQUIEL',\n",
       " 'BARBOSA',\n",
       " 'DE',\n",
       " 'OLIVEIRA',\n",
       " 'DESEMBARGADOR',\n",
       " 'JOÃO',\n",
       " 'ANTÔNIO',\n",
       " 'DE',\n",
       " 'MARCHI',\n",
       " 'JULGO',\n",
       " 'EXTINTO',\n",
       " 'XXIV',\n",
       " 'PODER',\n",
       " 'JUDICIÁRIO',\n",
       " 'TRIBUNAL',\n",
       " 'DE',\n",
       " 'JUSTIÇA',\n",
       " 'CCV']"
      ]
     },
     "execution_count": 46,
     "metadata": {},
     "output_type": "execute_result"
    }
   ],
   "source": [
    "pattern = re.compile(r'[A-ZÁÉÍÓÂÔÃÕÇ]*\\s')\n",
    "teste = re.findall(pattern, filtro[0]['ementa'])\n",
    "teste = [item.strip() for item in teste if item != ' ']\n",
    "teste"
   ]
  }
 ],
 "metadata": {
  "interpreter": {
   "hash": "f4f69bb116ce96ede4211ae550f6a1e35d96abef9a5ae85cc5a16f360a175ee5"
  },
  "kernelspec": {
   "display_name": "Python 3.9.0 64-bit",
   "language": "python",
   "name": "python3"
  },
  "language_info": {
   "codemirror_mode": {
    "name": "ipython",
    "version": 3
   },
   "file_extension": ".py",
   "mimetype": "text/x-python",
   "name": "python",
   "nbconvert_exporter": "python",
   "pygments_lexer": "ipython3",
   "version": "3.9.0"
  },
  "orig_nbformat": 4
 },
 "nbformat": 4,
 "nbformat_minor": 2
}
