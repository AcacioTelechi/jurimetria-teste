{
 "cells": [
  {
   "cell_type": "code",
   "execution_count": 4,
   "metadata": {},
   "outputs": [],
   "source": [
    "from selenium import webdriver\n",
    "import json"
   ]
  },
  {
   "cell_type": "code",
   "execution_count": 5,
   "metadata": {},
   "outputs": [],
   "source": [
    "driver = webdriver.Chrome()\n",
    "url = 'https://portal.tjpr.jus.br/jurisprudencia/j/2100000018568511/Ac%C3%B3rd%C3%A3o-0009657-42.2020.8.16.0131#integra_2100000018568511'\n",
    "driver.get(url)\n"
   ]
  },
  {
   "cell_type": "code",
   "execution_count": 14,
   "metadata": {},
   "outputs": [
    {
     "data": {
      "text/plain": [
       "[' Integra do Acórdão Ementa pré-formatada para citação Carregar documento  Imprimir/salvar (selecionar)',\n",
       " 'Verifique os documentos vinculados (clique para abrí-los):',\n",
       " '29/10/2021 20:15:06 - JUNTADA DE ACÓRDÃO',\n",
       " 'Acórdão (Irineu Stein Junior - 2ª Turma Recursal dos Juizados Especiais)',\n",
       " 'Processo: 0009657-42.2020.8.16.0131 (Acórdão)',\n",
       " 'Segredo de Justiça: Não',\n",
       " 'Relator(a): Irineu Stein Junior',\n",
       " 'Juiz de Direito da Turma Recursal dos Juizados Especiais',\n",
       " 'Órgão Julgador: 2ª Turma Recursal',\n",
       " 'Comarca: Pato Branco',\n",
       " 'Data do Julgamento: 29/10/2021 00:00:00',\n",
       " 'Fonte/Data da Publicação:  29/10/2021',\n",
       " '',\n",
       " 'Ementa',\n",
       " '',\n",
       " 'RECURSO INOMINADO. RESIDUAL. INSCRIÇÃO NOS ÓRGÃOS DE PROTEÇÃO DE CRÉDITO. DÉBITO DECORRENTE DE CARTÃO DE CRÉDITO. COMPRA CONTESTADA. CARTÃO CANCELADO. VEROSSIMILHANÇAS DAS ALEGAÇÕES AUTORAIS. PROVA DO FATO CONSTITUTIVO DO DIREITO (ART. 373, I, CPC). INEXIGIBILIDADE DO DÉBITO. FALHA NA PRESTAÇÃO DO SERVIÇO. INSCRIÇÃO INDEVIDA. DANO MORAL IN RE IPSA. OBSERVÂNCIA AOS PRINCÍPIOS DA RAZOABILIDADE E DA PROPORCIONALIDADE. ARBITRAMENTO. RECURSO CONHECIDO E PROVIDO.']"
      ]
     },
     "execution_count": 14,
     "metadata": {},
     "output_type": "execute_result"
    }
   ],
   "source": [
    "dados = driver.find_element_by_class_name('juris-dados-completos')\n",
    "dados.text.split('\\n')"
   ]
  }
 ],
 "metadata": {
  "interpreter": {
   "hash": "f4f69bb116ce96ede4211ae550f6a1e35d96abef9a5ae85cc5a16f360a175ee5"
  },
  "kernelspec": {
   "display_name": "Python 3.9.0 64-bit",
   "name": "python3"
  },
  "language_info": {
   "codemirror_mode": {
    "name": "ipython",
    "version": 3
   },
   "file_extension": ".py",
   "mimetype": "text/x-python",
   "name": "python",
   "nbconvert_exporter": "python",
   "pygments_lexer": "ipython3",
   "version": "3.9.0"
  },
  "orig_nbformat": 4
 },
 "nbformat": 4,
 "nbformat_minor": 2
}
