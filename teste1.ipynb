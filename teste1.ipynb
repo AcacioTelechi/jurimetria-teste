{
 "cells": [
  {
   "cell_type": "code",
   "execution_count": 41,
   "metadata": {},
   "outputs": [],
   "source": [
    "from main import tjpr_scraper \n"
   ]
  },
  {
   "cell_type": "code",
   "execution_count": 43,
   "metadata": {},
   "outputs": [
    {
     "name": "stdout",
     "output_type": "stream",
     "text": [
      "ACESSANDO:  https://portal.tjpr.jus.br/jurisprudencia/j/2100000018977422/Decis%C3%A3o%20monocr%C3%A1tica-0003482-65.2021.8.16.0044;jsessionid=8e1ba2f0163d2b1744d649f4dec4\n",
      "ACESSANDO:  https://portal.tjpr.jus.br/jurisprudencia/j/4100000017027642/Decis%C3%A3o%20monocr%C3%A1tica-0007924-17.2017.8.16.0173;jsessionid=8e1ba2f0163d2b1744d649f4dec4\n",
      "ACESSANDO:  https://portal.tjpr.jus.br/jurisprudencia/j/4100000018298842/Decis%C3%A3o%20monocr%C3%A1tica-0043432-19.2021.8.16.0000;jsessionid=8e1ba2f0163d2b1744d649f4dec4\n",
      "ACESSANDO:  https://portal.tjpr.jus.br/jurisprudencia/j/4100000019181872/Decis%C3%A3o%20monocr%C3%A1tica-0059705-73.2021.8.16.0000;jsessionid=8e1ba2f0163d2b1744d649f4dec4\n",
      "ACESSANDO:  https://portal.tjpr.jus.br/jurisprudencia/j/4100000019152672/Decis%C3%A3o%20monocr%C3%A1tica-0062011-15.2021.8.16.0000;jsessionid=8e1ba2f0163d2b1744d649f4dec4\n",
      "ACESSANDO:  https://portal.tjpr.jus.br/jurisprudencia/j/4100000015804592/Decis%C3%A3o%20monocr%C3%A1tica-0066894-39.2020.8.16.0000;jsessionid=8e1ba2f0163d2b1744d649f4dec4\n",
      "ACESSANDO:  https://portal.tjpr.jus.br/jurisprudencia/j/4100000019336492/Decis%C3%A3o%20monocr%C3%A1tica-0065878-16.2021.8.16.0000;jsessionid=8e1ba2f0163d2b1744d649f4dec4\n",
      "ACESSANDO:  https://portal.tjpr.jus.br/jurisprudencia/j/4100000018807042/Decis%C3%A3o%20monocr%C3%A1tica-0054393-19.2021.8.16.0000;jsessionid=8e1ba2f0163d2b1744d649f4dec4\n",
      "ACESSANDO:  https://portal.tjpr.jus.br/jurisprudencia/j/4100000018770392/Decis%C3%A3o%20monocr%C3%A1tica-0053669-15.2021.8.16.0000;jsessionid=8e1ba2f0163d2b1744d649f4dec4\n",
      "ACESSANDO:  https://portal.tjpr.jus.br/jurisprudencia/j/4100000018261982/Decis%C3%A3o%20monocr%C3%A1tica-0042590-39.2021.8.16.0000;jsessionid=8e1ba2f0163d2b1744d649f4dec4\n"
     ]
    },
    {
     "ename": "IndexError",
     "evalue": "list index out of range",
     "output_type": "error",
     "traceback": [
      "\u001b[1;31m---------------------------------------------------------------------------\u001b[0m",
      "\u001b[1;31mIndexError\u001b[0m                                Traceback (most recent call last)",
      "\u001b[1;32m~\\AppData\\Local\\Temp/ipykernel_11768/2437521197.py\u001b[0m in \u001b[0;36m<module>\u001b[1;34m\u001b[0m\n\u001b[0;32m      5\u001b[0m \u001b[1;32mfor\u001b[0m \u001b[0murl\u001b[0m \u001b[1;32min\u001b[0m \u001b[0murl_list\u001b[0m\u001b[1;33m:\u001b[0m\u001b[1;33m\u001b[0m\u001b[1;33m\u001b[0m\u001b[0m\n\u001b[0;32m      6\u001b[0m     \u001b[0mprint\u001b[0m\u001b[1;33m(\u001b[0m\u001b[1;34m\"ACESSANDO: \"\u001b[0m\u001b[1;33m,\u001b[0m \u001b[0murl\u001b[0m\u001b[1;33m)\u001b[0m\u001b[1;33m\u001b[0m\u001b[1;33m\u001b[0m\u001b[0m\n\u001b[1;32m----> 7\u001b[1;33m     \u001b[0mdados\u001b[0m \u001b[1;33m=\u001b[0m \u001b[0mscraper\u001b[0m\u001b[1;33m.\u001b[0m\u001b[0mget_data_from_processo\u001b[0m\u001b[1;33m(\u001b[0m\u001b[0murl\u001b[0m\u001b[1;33m)\u001b[0m\u001b[1;33m\u001b[0m\u001b[1;33m\u001b[0m\u001b[0m\n\u001b[0m\u001b[0;32m      8\u001b[0m     \u001b[0mlista_final\u001b[0m\u001b[1;33m.\u001b[0m\u001b[0mappend\u001b[0m\u001b[1;33m(\u001b[0m\u001b[0mdados\u001b[0m\u001b[1;33m)\u001b[0m\u001b[1;33m\u001b[0m\u001b[1;33m\u001b[0m\u001b[0m\n",
      "\u001b[1;32mc:\\Users\\caca_\\Desktop\\GitHub\\jurimetria-teste\\main.py\u001b[0m in \u001b[0;36mget_data_from_processo\u001b[1;34m(self, url)\u001b[0m\n\u001b[0;32m     30\u001b[0m                 \u001b[0msegredo\u001b[0m \u001b[1;33m=\u001b[0m \u001b[0mdado\u001b[0m\u001b[1;33m.\u001b[0m\u001b[0msplit\u001b[0m\u001b[1;33m(\u001b[0m\u001b[1;34m':'\u001b[0m\u001b[1;33m)\u001b[0m\u001b[1;33m[\u001b[0m\u001b[1;36m1\u001b[0m\u001b[1;33m]\u001b[0m\u001b[1;33m.\u001b[0m\u001b[0mstrip\u001b[0m\u001b[1;33m(\u001b[0m\u001b[1;33m)\u001b[0m\u001b[1;33m\u001b[0m\u001b[1;33m\u001b[0m\u001b[0m\n\u001b[0;32m     31\u001b[0m             \u001b[1;32mif\u001b[0m \u001b[1;34m\"Relator\"\u001b[0m \u001b[1;32min\u001b[0m \u001b[0mdado\u001b[0m\u001b[1;33m:\u001b[0m\u001b[1;33m\u001b[0m\u001b[1;33m\u001b[0m\u001b[0m\n\u001b[1;32m---> 32\u001b[1;33m                 \u001b[0mrelator\u001b[0m \u001b[1;33m=\u001b[0m \u001b[0mdado\u001b[0m\u001b[1;33m.\u001b[0m\u001b[0msplit\u001b[0m\u001b[1;33m(\u001b[0m\u001b[1;34m':'\u001b[0m\u001b[1;33m)\u001b[0m\u001b[1;33m[\u001b[0m\u001b[1;36m1\u001b[0m\u001b[1;33m]\u001b[0m\u001b[1;33m.\u001b[0m\u001b[0mstrip\u001b[0m\u001b[1;33m(\u001b[0m\u001b[1;33m)\u001b[0m\u001b[1;33m\u001b[0m\u001b[1;33m\u001b[0m\u001b[0m\n\u001b[0m\u001b[0;32m     33\u001b[0m                 \u001b[0mrelator_cargo\u001b[0m \u001b[1;33m=\u001b[0m \u001b[0mdados_list\u001b[0m\u001b[1;33m[\u001b[0m\u001b[0mi\u001b[0m\u001b[1;33m+\u001b[0m\u001b[1;36m1\u001b[0m\u001b[1;33m]\u001b[0m\u001b[1;33m.\u001b[0m\u001b[0mstrip\u001b[0m\u001b[1;33m(\u001b[0m\u001b[1;33m)\u001b[0m\u001b[1;33m\u001b[0m\u001b[1;33m\u001b[0m\u001b[0m\n\u001b[0;32m     34\u001b[0m             \u001b[1;32mif\u001b[0m \u001b[1;34m\"Órgão Julgador\"\u001b[0m \u001b[1;32min\u001b[0m \u001b[0mdado\u001b[0m\u001b[1;33m:\u001b[0m\u001b[1;33m\u001b[0m\u001b[1;33m\u001b[0m\u001b[0m\n",
      "\u001b[1;31mIndexError\u001b[0m: list index out of range"
     ]
    }
   ],
   "source": [
    "url = 'https://portal.tjpr.jus.br/jurisprudencia/publico/pesquisa.do?actionType=pesquisar'\n",
    "scraper = tjpr_scraper()\n",
    "url_list = scraper.get_url_list(url)\n",
    "lista_final = []\n",
    "for url in url_list:\n",
    "    print(\"ACESSANDO: \", url)\n",
    "    dados = scraper.get_data_from_processo(url)\n",
    "    lista_final.append(dados)\n"
   ]
  },
  {
   "cell_type": "code",
   "execution_count": 44,
   "metadata": {},
   "outputs": [
    {
     "data": {
      "text/plain": [
       "['https://portal.tjpr.jus.br/jurisprudencia/j/2100000018977422/Decis%C3%A3o%20monocr%C3%A1tica-0003482-65.2021.8.16.0044;jsessionid=8e1ba2f0163d2b1744d649f4dec4',\n",
       " 'https://portal.tjpr.jus.br/jurisprudencia/j/4100000017027642/Decis%C3%A3o%20monocr%C3%A1tica-0007924-17.2017.8.16.0173;jsessionid=8e1ba2f0163d2b1744d649f4dec4',\n",
       " 'https://portal.tjpr.jus.br/jurisprudencia/j/4100000018298842/Decis%C3%A3o%20monocr%C3%A1tica-0043432-19.2021.8.16.0000;jsessionid=8e1ba2f0163d2b1744d649f4dec4',\n",
       " 'https://portal.tjpr.jus.br/jurisprudencia/j/4100000019181872/Decis%C3%A3o%20monocr%C3%A1tica-0059705-73.2021.8.16.0000;jsessionid=8e1ba2f0163d2b1744d649f4dec4',\n",
       " 'https://portal.tjpr.jus.br/jurisprudencia/j/4100000019152672/Decis%C3%A3o%20monocr%C3%A1tica-0062011-15.2021.8.16.0000;jsessionid=8e1ba2f0163d2b1744d649f4dec4',\n",
       " 'https://portal.tjpr.jus.br/jurisprudencia/j/4100000015804592/Decis%C3%A3o%20monocr%C3%A1tica-0066894-39.2020.8.16.0000;jsessionid=8e1ba2f0163d2b1744d649f4dec4',\n",
       " 'https://portal.tjpr.jus.br/jurisprudencia/j/4100000019336492/Decis%C3%A3o%20monocr%C3%A1tica-0065878-16.2021.8.16.0000;jsessionid=8e1ba2f0163d2b1744d649f4dec4',\n",
       " 'https://portal.tjpr.jus.br/jurisprudencia/j/4100000018807042/Decis%C3%A3o%20monocr%C3%A1tica-0054393-19.2021.8.16.0000;jsessionid=8e1ba2f0163d2b1744d649f4dec4',\n",
       " 'https://portal.tjpr.jus.br/jurisprudencia/j/4100000018770392/Decis%C3%A3o%20monocr%C3%A1tica-0053669-15.2021.8.16.0000;jsessionid=8e1ba2f0163d2b1744d649f4dec4',\n",
       " 'https://portal.tjpr.jus.br/jurisprudencia/j/4100000018261982/Decis%C3%A3o%20monocr%C3%A1tica-0042590-39.2021.8.16.0000;jsessionid=8e1ba2f0163d2b1744d649f4dec4']"
      ]
     },
     "execution_count": 44,
     "metadata": {},
     "output_type": "execute_result"
    }
   ],
   "source": [
    "url_list"
   ]
  }
 ],
 "metadata": {
  "interpreter": {
   "hash": "f4f69bb116ce96ede4211ae550f6a1e35d96abef9a5ae85cc5a16f360a175ee5"
  },
  "kernelspec": {
   "display_name": "Python 3.9.0 64-bit",
   "name": "python3"
  },
  "language_info": {
   "codemirror_mode": {
    "name": "ipython",
    "version": 3
   },
   "file_extension": ".py",
   "mimetype": "text/x-python",
   "name": "python",
   "nbconvert_exporter": "python",
   "pygments_lexer": "ipython3",
   "version": "3.9.0"
  },
  "orig_nbformat": 4
 },
 "nbformat": 4,
 "nbformat_minor": 2
}
