{
 "cells": [
  {
   "cell_type": "code",
   "execution_count": 1,
   "metadata": {},
   "outputs": [],
   "source": [
    "from main import tjpr_scraper \n"
   ]
  },
  {
   "cell_type": "code",
   "execution_count": 5,
   "metadata": {},
   "outputs": [],
   "source": [
    "url = 'https://portal.tjpr.jus.br/jurisprudencia/publico/pesquisa.do?actionType=pesquisar'\n",
    "scraper = tjpr_scraper(hide=False)\n",
    "scraper.driver.get(url)\n",
    "# url_list = scraper.get_url_list(url)\n",
    "# lista_final = []\n",
    "# for url in url_list:\n",
    "#     print(\"ACESSANDO: \", url)\n",
    "#     dados = scraper.get_data_from_processo(url)\n",
    "#     lista_final.append(dados)\n"
   ]
  },
  {
   "cell_type": "code",
   "execution_count": 69,
   "metadata": {},
   "outputs": [],
   "source": [
    "item = itens[5]\n",
    "tab = scraper.driver.find_elements_by_class_name(\"resultTable\")[1]\n",
    "itens = tab.find_elements_by_tag_name(\"tr\")[1:]"
   ]
  },
  {
   "cell_type": "code",
   "execution_count": 70,
   "metadata": {},
   "outputs": [],
   "source": [
    "dados_item = item.find_element_by_class_name(\"juris-tabela-dados\")\n",
    "link = dados_item.find_element_by_tag_name(\"a\").get_attribute(\"href\")"
   ]
  },
  {
   "cell_type": "code",
   "execution_count": 71,
   "metadata": {},
   "outputs": [],
   "source": [
    "ementa_item = item.find_element_by_class_name(\"juris-tabela-ementa\")\n",
    "try:\n",
    "    ementa_item.find_element_by_tag_name(\"a\").click()\n",
    "    ementa_item = ementa_item.text\n",
    "except:\n",
    "    ementa_item = ementa_item.text"
   ]
  },
  {
   "cell_type": "code",
   "execution_count": 72,
   "metadata": {},
   "outputs": [],
   "source": [
    "dados_split = dados_item.text.split(\"\\n\")\n",
    "processo = dados_split[0]\n",
    "relator = dados_split[2]\n",
    "cargo = dados_split[3]\n",
    "orgao = dados_split[6]\n",
    "data = dados_split[7]"
   ]
  },
  {
   "cell_type": "code",
   "execution_count": 73,
   "metadata": {},
   "outputs": [
    {
     "data": {
      "text/plain": [
       "'Relator:  Helio Henrique Lopes Fernandes Lima'"
      ]
     },
     "execution_count": 73,
     "metadata": {},
     "output_type": "execute_result"
    }
   ],
   "source": [
    "relator"
   ]
  }
 ],
 "metadata": {
  "interpreter": {
   "hash": "f4f69bb116ce96ede4211ae550f6a1e35d96abef9a5ae85cc5a16f360a175ee5"
  },
  "kernelspec": {
   "display_name": "Python 3.9.0 64-bit",
   "name": "python3"
  },
  "language_info": {
   "codemirror_mode": {
    "name": "ipython",
    "version": 3
   },
   "file_extension": ".py",
   "mimetype": "text/x-python",
   "name": "python",
   "nbconvert_exporter": "python",
   "pygments_lexer": "ipython3",
   "version": "3.9.0"
  },
  "orig_nbformat": 4
 },
 "nbformat": 4,
 "nbformat_minor": 2
}
