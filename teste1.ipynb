{
 "cells": [
  {
   "cell_type": "code",
   "execution_count": 7,
   "metadata": {},
   "outputs": [],
   "source": [
    "from main import tjpr_scraper \n",
    "import json"
   ]
  },
  {
   "cell_type": "code",
   "execution_count": 2,
   "metadata": {},
   "outputs": [],
   "source": [
    "url = 'https://portal.tjpr.jus.br/jurisprudencia/publico/pesquisa.do?actionType=pesquisar'\n",
    "scraper = tjpr_scraper(hide=False)\n",
    "scraper.driver.get(url)\n",
    "# url_list = scraper.get_url_list(url)\n",
    "# lista_final = []\n",
    "# for url in url_list:\n",
    "#     print(\"ACESSANDO: \", url)\n",
    "#     dados = scraper.get_data_from_processo(url)\n",
    "#     lista_final.append(dados)\n"
   ]
  },
  {
   "cell_type": "code",
   "execution_count": 3,
   "metadata": {},
   "outputs": [],
   "source": [
    "itens, tab = scraper._get_itens_tabela_resultado()"
   ]
  },
  {
   "cell_type": "code",
   "execution_count": 22,
   "metadata": {},
   "outputs": [],
   "source": [
    "lista_ok = []\n",
    "lista_pendentes = []\n",
    "for item in itens:\n",
    "    dados_item = scraper.get_dados_item(item)\n",
    "    if dados_item['ementa'] == 'Conteúdo pendente de análise e liberação para consulta pública.':\n",
    "        lista_pendentes.append(dados_item)\n",
    "    else:\n",
    "        lista_ok.append(dados_item)"
   ]
  },
  {
   "cell_type": "code",
   "execution_count": 23,
   "metadata": {},
   "outputs": [],
   "source": [
    "with open('teste.json', 'w', encoding='utf8') as f:\n",
    "    json.dump(lista_ok, f)"
   ]
  }
 ],
 "metadata": {
  "interpreter": {
   "hash": "f4f69bb116ce96ede4211ae550f6a1e35d96abef9a5ae85cc5a16f360a175ee5"
  },
  "kernelspec": {
   "display_name": "Python 3.9.0 64-bit",
   "name": "python3"
  },
  "language_info": {
   "codemirror_mode": {
    "name": "ipython",
    "version": 3
   },
   "file_extension": ".py",
   "mimetype": "text/x-python",
   "name": "python",
   "nbconvert_exporter": "python",
   "pygments_lexer": "ipython3",
   "version": "3.9.0"
  },
  "orig_nbformat": 4
 },
 "nbformat": 4,
 "nbformat_minor": 2
}
