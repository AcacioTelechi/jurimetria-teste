{
 "cells": [
  {
   "cell_type": "code",
   "execution_count": 1,
   "metadata": {},
   "outputs": [],
   "source": [
    "from main import tjpr_scraper \n",
    "import re"
   ]
  },
  {
   "cell_type": "code",
   "execution_count": 2,
   "metadata": {},
   "outputs": [],
   "source": [
    "url = 'https://portal.tjpr.jus.br/jurisprudencia/publico/pesquisa.do?actionType=pesquisar'\n",
    "scraper = tjpr_scraper(hide=False)\n",
    "scraper.driver.get(url)\n",
    "# lista_ok, lista_pendentes = scraper.get_dados(max_paginas=100)\n"
   ]
  },
  {
   "cell_type": "code",
   "execution_count": 12,
   "metadata": {},
   "outputs": [],
   "source": [
    "itens = scraper._get_itens_tabela_resultado()"
   ]
  },
  {
   "cell_type": "code",
   "execution_count": 38,
   "metadata": {},
   "outputs": [
    {
     "data": {
      "text/plain": [
       "'2. 0046002-75.2021.8.16.0000  (Decisão monocrática)\\n\\nRelator:  João Antônio De Marchi\\nDesembargador\\n\\nProcesso: 0046002-75.2021.8.16.0000\\nÓrgão Julgador: 14ª Câmara Cível\\nData Julgamento: 08/11/2021\\nPODER JUDICIÁRIO TRIBUNAL DE JUSTIÇA Estado do Paraná 14ª CÂMARA CÍVEL AGRAVO DE INSTRUMENTO N.º 0046002-75.2021.8.16.0000, DE PONTA GROSSA – 2ª VARA CÍVEL AGRAVANTE: COOPERATIVA DE CREDITO SUL - SICOOB SUL AGRAVADO: EZEQUIEL BARBOSA DE OLIVEIRA RELATOR: DESEMBARGADOR JOÃO ANTÔNIO DE MARCHI VISTO, etc. Em consulta ao processo eletrônico da demanda originária, verifica-se que as partes transigiram na Tutela Cautelar em Caráter Antecedente com Pedido Liminar nº: 0017527-52.2021.8.16.0019 (mov. 63.2) e, em 28.10.21, foi proferida sentença homologando- a e julgando extinto o feito, com resolução de mérito (CPC, art. 487, III, “b” – mov. 75.1). Com efeito, o procedimento recursal se encontra prejudicado, devido à superveniente perda de objeto, circunstância que implica em sua extinção, nos termos...\\nLeia mais..'"
      ]
     },
     "execution_count": 38,
     "metadata": {},
     "output_type": "execute_result"
    }
   ],
   "source": [
    "texto = itens[1].text\n",
    "texto"
   ]
  },
  {
   "cell_type": "code",
   "execution_count": 76,
   "metadata": {},
   "outputs": [],
   "source": [
    "pattern=r'Relator:\\b .*\\b'\n",
    "match = re.search(pattern, texto)\n",
    "match"
   ]
  }
 ],
 "metadata": {
  "interpreter": {
   "hash": "f4f69bb116ce96ede4211ae550f6a1e35d96abef9a5ae85cc5a16f360a175ee5"
  },
  "kernelspec": {
   "display_name": "Python 3.9.0 64-bit",
   "name": "python3"
  },
  "language_info": {
   "codemirror_mode": {
    "name": "ipython",
    "version": 3
   },
   "file_extension": ".py",
   "mimetype": "text/x-python",
   "name": "python",
   "nbconvert_exporter": "python",
   "pygments_lexer": "ipython3",
   "version": "3.9.0"
  },
  "orig_nbformat": 4
 },
 "nbformat": 4,
 "nbformat_minor": 2
}
